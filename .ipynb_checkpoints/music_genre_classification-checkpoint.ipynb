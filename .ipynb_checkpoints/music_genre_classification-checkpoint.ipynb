{
 "cells": [
  {
   "cell_type": "markdown",
   "metadata": {},
   "source": [
    "# Music Genre Classification\n",
    "This project focuses on techniques for extracting features from audio data using the the Librosa library. The extracted features will then be used to train a music genre classifier implemented in Tensorflow.\n",
    "\n",
    "The GTZAN dataset will be used for this project. The dataset contains 10 classes, each class with a 100 of different 30 seconds audio files. The classes are: blues, classical, country, disco, hip-hop, jazz, metal, pop, reggae and rock."
   ]
  },
  {
   "cell_type": "markdown",
   "metadata": {},
   "source": [
    "## Data Preparation\n",
    "### Data Collection\n",
    "Download the dataset, then unarchive each of the files using unrar from the terminal."
   ]
  },
  {
   "cell_type": "code",
   "execution_count": 4,
   "metadata": {},
   "outputs": [
    {
     "name": "stdout",
     "output_type": "stream",
     "text": [
      "Downloading...\n",
      "From: https://drive.google.com/uc?id=1nZz6EHYl7M6ReCd7BUHzhuDN52mA36_q\n",
      "To: /notebooks/gtzan.rar\n",
      "100%|███████████████████████████████████████| 2.02G/2.02G [00:15<00:00, 134MB/s]\n"
     ]
    }
   ],
   "source": [
    "!gdown --fuzzy 'https://drive.google.com/file/d/1nZz6EHYl7M6ReCd7BUHzhuDN52mA36_q/view?usp=drivesdk'"
   ]
  },
  {
   "cell_type": "code",
   "execution_count": 6,
   "metadata": {},
   "outputs": [
    {
     "name": "stdout",
     "output_type": "stream",
     "text": [
      "\n",
      "UNRAR 5.61 beta 1 freeware      Copyright (c) 1993-2018 Alexander Roshal\n",
      "\n",
      "\n",
      "Extracting from gtzan.rar\n",
      "\n",
      "Creating    dataset_compressed                                        OK\n",
      "Extracting  dataset_compressed/disco.rar                                               7  OK \n",
      "Extracting  dataset_compressed/hiphop.rar                                     1 1 1 1 1 1 1 1 18  OK \n",
      "Extracting  dataset_compressed/jazz.rar                                 1 1 2 2 2 2 2 2 2 2 2 29  OK \n",
      "Extracting  dataset_compressed/metal.rar                                2 3 3 3 3 3 3 3 3 3 3 4 41  OK \n",
      "Extracting  dataset_compressed/pop.rar                                  4 4 4 4 4 4 4 4 4 5 5 52  OK \n",
      "Extracting  dataset_compressed/reggae.rar                               5 5 5 5 5 5 5 59  OK \n",
      "Extracting  dataset_compressed/rock.rar                                 5 6 6 6 6 6 6 6 6 6 6 7 71  OK \n",
      "Extracting  dataset_compressed/blues.rar                                7 7 7 7 7 7 7 7 7 8 8 82  OK \n",
      "Extracting  dataset_compressed/classical.rar                            8 8 8 8 8 8 8 8 9 9 9 93  OK \n",
      "Extracting  dataset_compressed/country.rar                              9 9 9 9 9 9 99  OK \n",
      "All OK\n"
     ]
    }
   ],
   "source": [
    "!unrar e gtzan.rar dataset_compressed/"
   ]
  },
  {
   "cell_type": "code",
   "execution_count": null,
   "metadata": {},
   "outputs": [],
   "source": [
    "!unrar e dataset_compressed/disco.rar dataset/disco/\n",
    "!unrar e dataset_compressed/hiphop.rar dataset/hiphop/\n",
    "!unrar e dataset_compressed/jazz.rar dataset/jazz/\n",
    "!unrar e dataset_compressed/metal.rar dataset/metal/\n",
    "!unrar e dataset_compressed/pop.rar dataset/pop/\n",
    "!unrar e dataset_compressed/reggae.rar dataset/reggae/\n",
    "!unrar e dataset_compressed/rock.rar dataset/rock/\n",
    "!unrar e dataset_compressed/blues.rar dataset/blues/\n",
    "!unrar e dataset_compressed/classical.rar dataset/classical/\n",
    "!unrar e dataset_compressed/country.rar dataset/country/"
   ]
  },
  {
   "cell_type": "markdown",
   "metadata": {},
   "source": [
    "### Python Packages\n",
    "Install and import all necessary Python packages."
   ]
  },
  {
   "cell_type": "code",
   "execution_count": 9,
   "metadata": {},
   "outputs": [
    {
     "name": "stdout",
     "output_type": "stream",
     "text": [
      "Collecting librosa\n",
      "  Downloading librosa-0.9.2-py3-none-any.whl (214 kB)\n",
      "\u001b[2K     \u001b[90m━━━━━━━━━━━━━━━━━━━━━━━━━━━━━━━━━━━━━━\u001b[0m \u001b[32m214.3/214.3 kB\u001b[0m \u001b[31m23.6 MB/s\u001b[0m eta \u001b[36m0:00:00\u001b[0m\n",
      "\u001b[?25hCollecting numba>=0.45.1\n",
      "  Downloading numba-0.56.3-cp39-cp39-manylinux2014_x86_64.manylinux_2_17_x86_64.whl (3.5 MB)\n",
      "\u001b[2K     \u001b[90m━━━━━━━━━━━━━━━━━━━━━━━━━━━━━━━━━━━━━━━━\u001b[0m \u001b[32m3.5/3.5 MB\u001b[0m \u001b[31m68.6 MB/s\u001b[0m eta \u001b[36m0:00:00\u001b[0m:00:01\u001b[0m\n",
      "\u001b[?25hRequirement already satisfied: decorator>=4.0.10 in /usr/local/lib/python3.9/dist-packages (from librosa) (5.1.1)\n",
      "Collecting soundfile>=0.10.2\n",
      "  Downloading soundfile-0.11.0-py2.py3-none-any.whl (23 kB)\n",
      "Requirement already satisfied: packaging>=20.0 in /usr/local/lib/python3.9/dist-packages (from librosa) (21.3)\n",
      "Requirement already satisfied: numpy>=1.17.0 in /usr/local/lib/python3.9/dist-packages (from librosa) (1.23.1)\n",
      "Collecting audioread>=2.1.9\n",
      "  Downloading audioread-3.0.0.tar.gz (377 kB)\n",
      "\u001b[2K     \u001b[90m━━━━━━━━━━━━━━━━━━━━━━━━━━━━━━━━━━━━━━\u001b[0m \u001b[32m377.0/377.0 kB\u001b[0m \u001b[31m47.8 MB/s\u001b[0m eta \u001b[36m0:00:00\u001b[0m\n",
      "\u001b[?25h  Preparing metadata (setup.py) ... \u001b[?25ldone\n",
      "\u001b[?25hRequirement already satisfied: scipy>=1.2.0 in /usr/local/lib/python3.9/dist-packages (from librosa) (1.8.1)\n",
      "Requirement already satisfied: joblib>=0.14 in /usr/local/lib/python3.9/dist-packages (from librosa) (1.1.0)\n",
      "Collecting pooch>=1.0\n",
      "  Downloading pooch-1.6.0-py3-none-any.whl (56 kB)\n",
      "\u001b[2K     \u001b[90m━━━━━━━━━━━━━━━━━━━━━━━━━━━━━━━━━━━━━━━━\u001b[0m \u001b[32m56.3/56.3 kB\u001b[0m \u001b[31m13.6 MB/s\u001b[0m eta \u001b[36m0:00:00\u001b[0m\n",
      "\u001b[?25hCollecting resampy>=0.2.2\n",
      "  Downloading resampy-0.4.2-py3-none-any.whl (3.1 MB)\n",
      "\u001b[2K     \u001b[90m━━━━━━━━━━━━━━━━━━━━━━━━━━━━━━━━━━━━━━━━\u001b[0m \u001b[32m3.1/3.1 MB\u001b[0m \u001b[31m81.3 MB/s\u001b[0m eta \u001b[36m0:00:00\u001b[0m:00:01\u001b[0m\n",
      "\u001b[?25hRequirement already satisfied: scikit-learn>=0.19.1 in /usr/local/lib/python3.9/dist-packages (from librosa) (1.1.1)\n",
      "Requirement already satisfied: setuptools in /usr/local/lib/python3.9/dist-packages (from numba>=0.45.1->librosa) (63.1.0)\n",
      "Collecting llvmlite<0.40,>=0.39.0dev0\n",
      "  Downloading llvmlite-0.39.1-cp39-cp39-manylinux_2_17_x86_64.manylinux2014_x86_64.whl (34.6 MB)\n",
      "\u001b[2K     \u001b[90m━━━━━━━━━━━━━━━━━━━━━━━━━━━━━━━━━━━━━━━━\u001b[0m \u001b[32m34.6/34.6 MB\u001b[0m \u001b[31m42.2 MB/s\u001b[0m eta \u001b[36m0:00:00\u001b[0m00:01\u001b[0m00:01\u001b[0m\n",
      "\u001b[?25hRequirement already satisfied: pyparsing!=3.0.5,>=2.0.2 in /usr/local/lib/python3.9/dist-packages (from packaging>=20.0->librosa) (3.0.9)\n",
      "Requirement already satisfied: requests>=2.19.0 in /usr/local/lib/python3.9/dist-packages (from pooch>=1.0->librosa) (2.28.1)\n",
      "Collecting appdirs>=1.3.0\n",
      "  Downloading appdirs-1.4.4-py2.py3-none-any.whl (9.6 kB)\n",
      "Requirement already satisfied: threadpoolctl>=2.0.0 in /usr/local/lib/python3.9/dist-packages (from scikit-learn>=0.19.1->librosa) (3.1.0)\n",
      "Requirement already satisfied: cffi>=1.0 in /usr/local/lib/python3.9/dist-packages (from soundfile>=0.10.2->librosa) (1.15.1)\n",
      "Requirement already satisfied: pycparser in /usr/local/lib/python3.9/dist-packages (from cffi>=1.0->soundfile>=0.10.2->librosa) (2.21)\n",
      "Requirement already satisfied: idna<4,>=2.5 in /usr/lib/python3/dist-packages (from requests>=2.19.0->pooch>=1.0->librosa) (2.8)\n",
      "Requirement already satisfied: charset-normalizer<3,>=2 in /usr/local/lib/python3.9/dist-packages (from requests>=2.19.0->pooch>=1.0->librosa) (2.1.0)\n",
      "Requirement already satisfied: certifi>=2017.4.17 in /usr/lib/python3/dist-packages (from requests>=2.19.0->pooch>=1.0->librosa) (2019.11.28)\n",
      "Requirement already satisfied: urllib3<1.27,>=1.21.1 in /usr/local/lib/python3.9/dist-packages (from requests>=2.19.0->pooch>=1.0->librosa) (1.26.10)\n",
      "Building wheels for collected packages: audioread\n",
      "  Building wheel for audioread (setup.py) ... \u001b[?25ldone\n",
      "\u001b[?25h  Created wheel for audioread: filename=audioread-3.0.0-py3-none-any.whl size=23702 sha256=863deefc899b4960fbe7234c0aa93fba6b2044a5d8ed41e9f22bbed8888d568f\n",
      "  Stored in directory: /root/.cache/pip/wheels/e4/76/a4/cfb55573167a1f5bde7d7a348e95e509c64b2c3e8f921932c3\n",
      "Successfully built audioread\n",
      "Installing collected packages: appdirs, llvmlite, audioread, soundfile, pooch, numba, resampy, librosa\n",
      "Successfully installed appdirs-1.4.4 audioread-3.0.0 librosa-0.9.2 llvmlite-0.39.1 numba-0.56.3 pooch-1.6.0 resampy-0.4.2 soundfile-0.11.0\n",
      "\u001b[33mWARNING: Running pip as the 'root' user can result in broken permissions and conflicting behaviour with the system package manager. It is recommended to use a virtual environment instead: https://pip.pypa.io/warnings/venv\u001b[0m\u001b[33m\n",
      "\u001b[0m"
     ]
    }
   ],
   "source": [
    "!pip install librosa"
   ]
  },
  {
   "cell_type": "code",
   "execution_count": 10,
   "metadata": {},
   "outputs": [],
   "source": [
    "import os\n",
    "import numpy as np\n",
    "import tensorflow as tf\n",
    "import librosa\n",
    "import matplotlib.pyplot as plt"
   ]
  },
  {
   "cell_type": "markdown",
   "metadata": {},
   "source": [
    "### Feature Extraction\n",
    "We will need a set of features that capture the essence of various music specifications, such as pitch, melody, chord progressions, instrumentation type, etc. Four features to be extracted include:\n",
    "* Mel Frequency Cepstral Coefficiens\n",
    "* Mel Spectogram\n",
    "* Chroma Vector\n",
    "* Tonal Centroid Features"
   ]
  },
  {
   "cell_type": "markdown",
   "metadata": {},
   "source": [
    "**Mel-Frequency Cepstral Coefficients (MFCC)** are Cepstral coefficients calculated by a discrete cosine transform applied to the power spectrum of a signal. The frequency bands of this spectrum are spaced logarithmically according to the Mel scale."
   ]
  },
  {
   "cell_type": "code",
   "execution_count": 11,
   "metadata": {},
   "outputs": [],
   "source": [
    "def get_mfcc(file_path):\n",
    "    y, sr = librosa.load(file_path, offset=0, duration=30)\n",
    "    mfcc = np.array(librosa.feature.mfcc(y=y, sr=sr))\n",
    "    return mfcc"
   ]
  },
  {
   "cell_type": "markdown",
   "metadata": {},
   "source": [
    "Try plotting an MFCC image using Matplotlib."
   ]
  },
  {
   "cell_type": "code",
   "execution_count": 13,
   "metadata": {},
   "outputs": [
    {
     "data": {
      "image/png": "[encoded data removed]",
      "text/plain": [
       "<Figure size 432x288 with 1 Axes>"
      ]
     },
     "metadata": {
      "needs_background": "light"
     },
     "output_type": "display_data"
    }
   ],
   "source": [
    "example_jazz_file = 'dataset/jazz/jazz.00001.wav'\n",
    "mfcc = get_mfcc(example_jazz_file)\n",
    "plt.imshow(mfcc, interpolation='nearest', aspect='auto')\n",
    "plt.show()"
   ]
  },
  {
   "cell_type": "markdown",
   "metadata": {},
   "source": [
    "The **Mel spectrogram** is equal to the standard spectrogram in the Mel scale, which is a perceptual scale of pitches that listeners perceive to be equally spaced from one another. "
   ]
  },
  {
   "cell_type": "code",
   "execution_count": 14,
   "metadata": {},
   "outputs": [],
   "source": [
    "def get_melspectrogram(file_path):\n",
    "    y, sr = librosa.load(file_path, offset=0, duration=30)\n",
    "    melspectrogram = np.array(librosa.feature.melspectrogram(y=y, sr=sr))\n",
    "    return melspectrogram"
   ]
  },
  {
   "cell_type": "markdown",
   "metadata": {},
   "source": [
    "Try plotting a Mel spectrogram image using Matplotlib."
   ]
  },
  {
   "cell_type": "code",
   "execution_count": 17,
   "metadata": {},
   "outputs": [
    {
     "data": {
      "image/png": "[encoded data removed]",
      "text/plain": [
       "<Figure size 432x288 with 1 Axes>"
      ]
     },
     "metadata": {
      "needs_background": "light"
     },
     "output_type": "display_data"
    }
   ],
   "source": [
    "melspectrogram = get_melspectrogram(example_jazz_file)\n",
    "plt.imshow(melspectrogram, interpolation='nearest', aspect='auto')\n",
    "plt.show()"
   ]
  },
  {
   "cell_type": "markdown",
   "metadata": {},
   "source": [
    "The **Chroma vector** is constructed by having the full spectrum projected onto 12 bins that reflect the 12 unique semitones (or Chroma) of the musical octave: C, C#, D, D#, E , F, F#, G, G#, A, A#, B. "
   ]
  },
  {
   "cell_type": "code",
   "execution_count": 18,
   "metadata": {},
   "outputs": [],
   "source": [
    "def get_chroma_vector(file_path):\n",
    "    y, sr = librosa.load(file_path, offset=0, duration=30)\n",
    "    chroma = np.array(librosa.feature.chroma_stft(y=y, sr=sr))\n",
    "    return chroma"
   ]
  },
  {
   "cell_type": "markdown",
   "metadata": {},
   "source": [
    "Try plotting a Chroma vector image using Matplotlib."
   ]
  },
  {
   "cell_type": "code",
   "execution_count": 20,
   "metadata": {},
   "outputs": [
    {
     "data": {
      "image/png": "[encoded data removed]",
      "text/plain": [
       "<Figure size 432x288 with 1 Axes>"
      ]
     },
     "metadata": {
      "needs_background": "light"
     },
     "output_type": "display_data"
    }
   ],
   "source": [
    "chroma = get_chroma_vector(example_jazz_file)\n",
    "plt.imshow(chroma, interpolation='nearest', aspect='auto')\n",
    "plt.show()"
   ]
  },
  {
   "cell_type": "markdown",
   "metadata": {},
   "source": [
    "**Tonal Centroid Features (Tonnetz)** are calculated by projecting Chroma features onto a 6-dimensional basis representing the perfect fifth, minor third, and major third each as two-dimensional coordinates."
   ]
  },
  {
   "cell_type": "code",
   "execution_count": 21,
   "metadata": {},
   "outputs": [],
   "source": [
    "def get_tonnetz(file_path):\n",
    "    y, sr = librosa.load(file_path, offset=0, duration=30)\n",
    "    tonnetz = np.array(librosa.feature.tonnetz(y=y, sr=sr))\n",
    "    return tonnetz"
   ]
  },
  {
   "cell_type": "markdown",
   "metadata": {},
   "source": [
    "Try plotting a Tonal Centroid Features image using Matplotlib."
   ]
  },
  {
   "cell_type": "code",
   "execution_count": 22,
   "metadata": {},
   "outputs": [
    {
     "data": {
      "image/png": "[encoded data removed]",
      "text/plain": [
       "<Figure size 432x288 with 1 Axes>"
      ]
     },
     "metadata": {
      "needs_background": "light"
     },
     "output_type": "display_data"
    }
   ],
   "source": [
    "tonnetz = get_tonnetz(example_jazz_file)\n",
    "plt.imshow(tonnetz, interpolation='nearest', aspect='auto')\n",
    "plt.show()"
   ]
  },
  {
   "cell_type": "markdown",
   "metadata": {},
   "source": [
    "Put all the features together. The `get_features` function extracts the envelope (min and max) and the mean of each feature along the time axis and concatenates them."
   ]
  },
  {
   "cell_type": "code",
   "execution_count": 34,
   "metadata": {},
   "outputs": [],
   "source": [
    "def get_features(file_path):\n",
    "    mfcc = get_mfcc(file_path)\n",
    "    mfcc_feature = np.concatenate((mfcc.mean(axis=1), mfcc.min(axis=1), mfcc.max(axis=1)))\n",
    "    \n",
    "    melspectrogram = get_melspectrogram(file_path)\n",
    "    melspectrogram_feature = np.concatenate((melspectrogram.mean(axis=1), melspectrogram.min(axis=1), melspectrogram.max(axis=1)))\n",
    "    \n",
    "    chroma = get_chroma_vector(file_path)\n",
    "    chroma_feature = np.concatenate((chroma.mean(axis=1), chroma.min(axis=1), chroma.max(axis=1)))\n",
    "    \n",
    "    tonnetz = get_tonnetz(file_path)\n",
    "    tonnetz_feature = np.concatenate((tonnetz.mean(axis=1), tonnetz.min(axis=1), tonnetz.max(axis=1)))\n",
    "    \n",
    "    features = np.concatenate((mfcc_feature, melspectrogram_feature, chroma_feature, tonnetz_feature))\n",
    "    return features"
   ]
  },
  {
   "cell_type": "markdown",
   "metadata": {},
   "source": [
    "Try extracting features from the example file."
   ]
  },
  {
   "cell_type": "code",
   "execution_count": 35,
   "metadata": {},
   "outputs": [],
   "source": [
    "features = get_features(example_jazz_file)"
   ]
  },
  {
   "cell_type": "markdown",
   "metadata": {},
   "source": [
    "The output is a single float array of shape (498,)."
   ]
  },
  {
   "cell_type": "code",
   "execution_count": 36,
   "metadata": {},
   "outputs": [
    {
     "data": {
      "text/plain": [
       "(498,)"
      ]
     },
     "execution_count": 36,
     "metadata": {},
     "output_type": "execute_result"
    }
   ],
   "source": [
    "features.shape"
   ]
  },
  {
   "cell_type": "markdown",
   "metadata": {},
   "source": [
    "Now we extract features from the entire dataset. Simply loop through each file of each genre. For each one, we will construct a feature array and store it along with the respective label. For simplicity, we will experiment with 5 music genres."
   ]
  },
  {
   "cell_type": "code",
   "execution_count": 142,
   "metadata": {},
   "outputs": [
    {
     "name": "stdout",
     "output_type": "stream",
     "text": [
      "Extracting features for genre: reggae\n",
      "Extracting features for genre: classical\n",
      "Extracting features for genre: rock\n",
      "Extracting features for genre: blues\n",
      "Extracting features for genre: jazz\n"
     ]
    }
   ],
   "source": [
    "data_directory = 'dataset'\n",
    "genres = ['reggae','classical','rock', 'blues', 'jazz']\n",
    "\n",
    "features = []\n",
    "labels = []\n",
    "\n",
    "for genre in genres:\n",
    "    print('Extracting features for genre: {}'.format(genre))\n",
    "    for file in os.listdir(os.path.join(data_directory, genre)):\n",
    "        file_path = os.path.join(data_directory, genre, file)\n",
    "        features.append(get_features(file_path))\n",
    "        labels.append(genres.index(genre))"
   ]
  },
  {
   "cell_type": "markdown",
   "metadata": {},
   "source": [
    "### Data Splitting\n",
    "Split the dataset into training, validation and test sets. We will use 60% of data for training, 20% for validation and 20% for testing."
   ]
  },
  {
   "cell_type": "code",
   "execution_count": 146,
   "metadata": {},
   "outputs": [],
   "source": [
    "num_features = len(features)\n",
    "permutations = np.random.permutation(num_features)\n",
    "features_permuted = np.array(features)[permutations]\n",
    "labels_permuted = np.array(labels)[permutations]\n",
    "\n",
    "features_train = features_permuted[0:int(0.8*num_features)]\n",
    "labels_train = labels_permuted[0:int(0.8*num_features)]\n",
    "\n",
    "features_val = features_permuted[int(0.8*num_features):int(0.9*num_features)]\n",
    "labels_val = labels_permuted[int(0.8*num_features):int(0.9*num_features)]\n",
    "\n",
    "features_test = features_permuted[int(0.9*num_features):]\n",
    "labels_test = labels_permuted[int(0.9*num_features):]"
   ]
  },
  {
   "cell_type": "markdown",
   "metadata": {},
   "source": [
    "## Model Training\n",
    "For this model, we will use Keras' Functional API to implement fully connected neural network layers with the Linear Rectifier (ReLU) as the activation function. We will then use the 'Softmax' function for the output layer."
   ]
  },
  {
   "cell_type": "code",
   "execution_count": 152,
   "metadata": {},
   "outputs": [],
   "source": [
    "len_feature = len(features_train[0])\n",
    "inputs = tf.keras.Input(shape=(len_feature,))\n",
    "x = tf.keras.layers.Dense(512, activation='relu')(inputs)\n",
    "x = tf.keras.layers.Dense(256, activation='relu')(x)\n",
    "outputs = tf.keras.layers.Dense(len(genres), activation='softmax')(x)\n",
    "\n",
    "model = tf.keras.Model(inputs, outputs)\n",
    "model.compile(optimizer=tf.keras.optimizers.Adam(),\n",
    "             loss=tf.keras.losses.SparseCategoricalCrossentropy(),\n",
    "             metrics=[tf.keras.metrics.SparseCategoricalAccuracy()])"
   ]
  },
  {
   "cell_type": "markdown",
   "metadata": {},
   "source": [
    "Print the summary of the model's structure."
   ]
  },
  {
   "cell_type": "code",
   "execution_count": 153,
   "metadata": {},
   "outputs": [
    {
     "name": "stdout",
     "output_type": "stream",
     "text": [
      "Model: \"model_16\"\n",
      "_________________________________________________________________\n",
      " Layer (type)                Output Shape              Param #   \n",
      "=================================================================\n",
      " input_11 (InputLayer)       [(None, 498)]             0         \n",
      "                                                                 \n",
      " dense_30 (Dense)            (None, 512)               255488    \n",
      "                                                                 \n",
      " dense_31 (Dense)            (None, 256)               131328    \n",
      "                                                                 \n",
      " dense_32 (Dense)            (None, 5)                 1285      \n",
      "                                                                 \n",
      "=================================================================\n",
      "Total params: 388,101\n",
      "Trainable params: 388,101\n",
      "Non-trainable params: 0\n",
      "_________________________________________________________________\n"
     ]
    }
   ],
   "source": [
    "model.summary()"
   ]
  },
  {
   "cell_type": "markdown",
   "metadata": {},
   "source": [
    "Train the model for 64 epochs."
   ]
  },
  {
   "cell_type": "code",
   "execution_count": 154,
   "metadata": {},
   "outputs": [
    {
     "name": "stdout",
     "output_type": "stream",
     "text": [
      "Epoch 1/64\n",
      "13/13 [==============================] - 1s 26ms/step - loss: 65.4375 - sparse_categorical_accuracy: 0.4025 - val_loss: 28.7389 - val_sparse_categorical_accuracy: 0.5600\n",
      "Epoch 2/64\n",
      "13/13 [==============================] - 0s 6ms/step - loss: 14.9068 - sparse_categorical_accuracy: 0.6775 - val_loss: 32.1391 - val_sparse_categorical_accuracy: 0.6400\n",
      "Epoch 3/64\n",
      "13/13 [==============================] - 0s 6ms/step - loss: 9.1322 - sparse_categorical_accuracy: 0.7375 - val_loss: 22.9201 - val_sparse_categorical_accuracy: 0.5400\n",
      "Epoch 4/64\n",
      "13/13 [==============================] - 0s 5ms/step - loss: 5.5732 - sparse_categorical_accuracy: 0.7600 - val_loss: 21.3615 - val_sparse_categorical_accuracy: 0.5800\n",
      "Epoch 5/64\n",
      "13/13 [==============================] - 0s 7ms/step - loss: 3.5870 - sparse_categorical_accuracy: 0.8350 - val_loss: 27.8949 - val_sparse_categorical_accuracy: 0.5400\n",
      "Epoch 6/64\n",
      "13/13 [==============================] - 0s 7ms/step - loss: 2.0067 - sparse_categorical_accuracy: 0.8875 - val_loss: 21.1803 - val_sparse_categorical_accuracy: 0.6600\n",
      "Epoch 7/64\n",
      "13/13 [==============================] - 0s 6ms/step - loss: 1.6457 - sparse_categorical_accuracy: 0.8925 - val_loss: 29.6404 - val_sparse_categorical_accuracy: 0.5600\n",
      "Epoch 8/64\n",
      "13/13 [==============================] - 0s 6ms/step - loss: 0.9515 - sparse_categorical_accuracy: 0.9275 - val_loss: 13.0140 - val_sparse_categorical_accuracy: 0.7400\n",
      "Epoch 9/64\n",
      "13/13 [==============================] - 0s 6ms/step - loss: 0.3372 - sparse_categorical_accuracy: 0.9700 - val_loss: 25.4509 - val_sparse_categorical_accuracy: 0.6400\n",
      "Epoch 10/64\n",
      "13/13 [==============================] - 0s 6ms/step - loss: 0.4449 - sparse_categorical_accuracy: 0.9675 - val_loss: 20.1801 - val_sparse_categorical_accuracy: 0.7000\n",
      "Epoch 11/64\n",
      "13/13 [==============================] - 0s 6ms/step - loss: 0.3915 - sparse_categorical_accuracy: 0.9650 - val_loss: 19.7317 - val_sparse_categorical_accuracy: 0.6400\n",
      "Epoch 12/64\n",
      "13/13 [==============================] - 0s 6ms/step - loss: 0.2665 - sparse_categorical_accuracy: 0.9800 - val_loss: 22.0292 - val_sparse_categorical_accuracy: 0.6600\n",
      "Epoch 13/64\n",
      "13/13 [==============================] - 0s 6ms/step - loss: 0.3132 - sparse_categorical_accuracy: 0.9775 - val_loss: 18.0224 - val_sparse_categorical_accuracy: 0.6600\n",
      "Epoch 14/64\n",
      "13/13 [==============================] - 0s 6ms/step - loss: 0.3118 - sparse_categorical_accuracy: 0.9625 - val_loss: 21.3291 - val_sparse_categorical_accuracy: 0.6800\n",
      "Epoch 15/64\n",
      "13/13 [==============================] - 0s 6ms/step - loss: 0.5159 - sparse_categorical_accuracy: 0.9600 - val_loss: 19.5159 - val_sparse_categorical_accuracy: 0.6400\n",
      "Epoch 16/64\n",
      "13/13 [==============================] - 0s 6ms/step - loss: 0.1064 - sparse_categorical_accuracy: 0.9850 - val_loss: 18.5545 - val_sparse_categorical_accuracy: 0.6400\n",
      "Epoch 17/64\n",
      "13/13 [==============================] - 0s 6ms/step - loss: 0.2948 - sparse_categorical_accuracy: 0.9675 - val_loss: 20.1164 - val_sparse_categorical_accuracy: 0.6400\n",
      "Epoch 18/64\n",
      "13/13 [==============================] - 0s 6ms/step - loss: 0.0681 - sparse_categorical_accuracy: 0.9825 - val_loss: 17.5155 - val_sparse_categorical_accuracy: 0.6800\n",
      "Epoch 19/64\n",
      "13/13 [==============================] - 0s 6ms/step - loss: 0.7401 - sparse_categorical_accuracy: 0.9625 - val_loss: 24.2920 - val_sparse_categorical_accuracy: 0.6200\n",
      "Epoch 20/64\n",
      "13/13 [==============================] - 0s 6ms/step - loss: 1.1888 - sparse_categorical_accuracy: 0.9250 - val_loss: 26.2517 - val_sparse_categorical_accuracy: 0.6400\n",
      "Epoch 21/64\n",
      "13/13 [==============================] - 0s 6ms/step - loss: 0.2587 - sparse_categorical_accuracy: 0.9675 - val_loss: 22.7027 - val_sparse_categorical_accuracy: 0.6400\n",
      "Epoch 22/64\n",
      "13/13 [==============================] - 0s 6ms/step - loss: 0.5345 - sparse_categorical_accuracy: 0.9575 - val_loss: 24.2863 - val_sparse_categorical_accuracy: 0.6200\n",
      "Epoch 23/64\n",
      "13/13 [==============================] - 0s 6ms/step - loss: 0.5128 - sparse_categorical_accuracy: 0.9750 - val_loss: 20.3590 - val_sparse_categorical_accuracy: 0.6200\n",
      "Epoch 24/64\n",
      "13/13 [==============================] - 0s 6ms/step - loss: 0.1144 - sparse_categorical_accuracy: 0.9825 - val_loss: 22.5163 - val_sparse_categorical_accuracy: 0.7200\n",
      "Epoch 25/64\n",
      "13/13 [==============================] - 0s 6ms/step - loss: 0.8419 - sparse_categorical_accuracy: 0.9525 - val_loss: 34.7413 - val_sparse_categorical_accuracy: 0.6200\n",
      "Epoch 26/64\n",
      "13/13 [==============================] - 0s 6ms/step - loss: 0.7267 - sparse_categorical_accuracy: 0.9675 - val_loss: 25.9362 - val_sparse_categorical_accuracy: 0.5800\n",
      "Epoch 27/64\n",
      "13/13 [==============================] - 0s 6ms/step - loss: 0.0389 - sparse_categorical_accuracy: 0.9950 - val_loss: 28.8724 - val_sparse_categorical_accuracy: 0.6400\n",
      "Epoch 28/64\n",
      "13/13 [==============================] - 0s 6ms/step - loss: 0.1527 - sparse_categorical_accuracy: 0.9925 - val_loss: 27.1508 - val_sparse_categorical_accuracy: 0.6400\n",
      "Epoch 29/64\n",
      "13/13 [==============================] - 0s 6ms/step - loss: 0.0921 - sparse_categorical_accuracy: 0.9875 - val_loss: 33.2405 - val_sparse_categorical_accuracy: 0.5600\n",
      "Epoch 30/64\n",
      "13/13 [==============================] - 0s 6ms/step - loss: 0.0492 - sparse_categorical_accuracy: 0.9850 - val_loss: 17.3793 - val_sparse_categorical_accuracy: 0.6800\n",
      "Epoch 31/64\n",
      "13/13 [==============================] - 0s 6ms/step - loss: 0.1915 - sparse_categorical_accuracy: 0.9800 - val_loss: 20.2874 - val_sparse_categorical_accuracy: 0.6600\n",
      "Epoch 32/64\n",
      "13/13 [==============================] - 0s 6ms/step - loss: 0.2904 - sparse_categorical_accuracy: 0.9775 - val_loss: 22.6091 - val_sparse_categorical_accuracy: 0.6400\n",
      "Epoch 33/64\n",
      "13/13 [==============================] - 0s 6ms/step - loss: 0.6951 - sparse_categorical_accuracy: 0.9675 - val_loss: 17.9554 - val_sparse_categorical_accuracy: 0.7000\n",
      "Epoch 34/64\n",
      "13/13 [==============================] - 0s 6ms/step - loss: 0.4761 - sparse_categorical_accuracy: 0.9675 - val_loss: 19.1390 - val_sparse_categorical_accuracy: 0.6400\n",
      "Epoch 35/64\n",
      "13/13 [==============================] - 0s 6ms/step - loss: 0.2845 - sparse_categorical_accuracy: 0.9800 - val_loss: 20.8077 - val_sparse_categorical_accuracy: 0.6400\n",
      "Epoch 36/64\n",
      "13/13 [==============================] - 0s 6ms/step - loss: 0.9865 - sparse_categorical_accuracy: 0.9475 - val_loss: 16.0175 - val_sparse_categorical_accuracy: 0.7600\n",
      "Epoch 37/64\n",
      "13/13 [==============================] - 0s 6ms/step - loss: 0.8660 - sparse_categorical_accuracy: 0.9400 - val_loss: 28.0623 - val_sparse_categorical_accuracy: 0.6400\n",
      "Epoch 38/64\n",
      "13/13 [==============================] - 0s 7ms/step - loss: 0.3549 - sparse_categorical_accuracy: 0.9450 - val_loss: 21.1272 - val_sparse_categorical_accuracy: 0.6800\n",
      "Epoch 39/64\n",
      "13/13 [==============================] - 0s 6ms/step - loss: 0.1674 - sparse_categorical_accuracy: 0.9725 - val_loss: 21.1637 - val_sparse_categorical_accuracy: 0.6400\n",
      "Epoch 40/64\n",
      "13/13 [==============================] - 0s 6ms/step - loss: 0.1622 - sparse_categorical_accuracy: 0.9750 - val_loss: 29.3635 - val_sparse_categorical_accuracy: 0.6200\n",
      "Epoch 41/64\n",
      "13/13 [==============================] - 0s 6ms/step - loss: 0.3530 - sparse_categorical_accuracy: 0.9775 - val_loss: 16.7952 - val_sparse_categorical_accuracy: 0.7000\n",
      "Epoch 42/64\n",
      "13/13 [==============================] - 0s 6ms/step - loss: 1.0302 - sparse_categorical_accuracy: 0.9675 - val_loss: 37.2708 - val_sparse_categorical_accuracy: 0.6200\n",
      "Epoch 43/64\n",
      "13/13 [==============================] - 0s 6ms/step - loss: 0.8438 - sparse_categorical_accuracy: 0.9475 - val_loss: 33.6840 - val_sparse_categorical_accuracy: 0.7200\n",
      "Epoch 44/64\n",
      "13/13 [==============================] - 0s 6ms/step - loss: 1.6387 - sparse_categorical_accuracy: 0.9425 - val_loss: 23.3103 - val_sparse_categorical_accuracy: 0.6800\n",
      "Epoch 45/64\n",
      "13/13 [==============================] - 0s 6ms/step - loss: 0.6870 - sparse_categorical_accuracy: 0.9425 - val_loss: 15.8072 - val_sparse_categorical_accuracy: 0.6600\n",
      "Epoch 46/64\n",
      "13/13 [==============================] - 0s 6ms/step - loss: 0.5526 - sparse_categorical_accuracy: 0.9575 - val_loss: 18.9317 - val_sparse_categorical_accuracy: 0.6400\n",
      "Epoch 47/64\n",
      "13/13 [==============================] - 0s 6ms/step - loss: 0.2751 - sparse_categorical_accuracy: 0.9725 - val_loss: 21.3017 - val_sparse_categorical_accuracy: 0.6200\n",
      "Epoch 48/64\n",
      "13/13 [==============================] - 0s 6ms/step - loss: 0.1487 - sparse_categorical_accuracy: 0.9850 - val_loss: 18.3164 - val_sparse_categorical_accuracy: 0.6400\n",
      "Epoch 49/64\n",
      "13/13 [==============================] - 0s 6ms/step - loss: 0.0613 - sparse_categorical_accuracy: 0.9825 - val_loss: 19.1754 - val_sparse_categorical_accuracy: 0.6400\n",
      "Epoch 50/64\n",
      "13/13 [==============================] - 0s 6ms/step - loss: 0.1606 - sparse_categorical_accuracy: 0.9850 - val_loss: 19.7958 - val_sparse_categorical_accuracy: 0.6600\n",
      "Epoch 51/64\n",
      "13/13 [==============================] - 0s 6ms/step - loss: 0.0348 - sparse_categorical_accuracy: 0.9900 - val_loss: 20.5309 - val_sparse_categorical_accuracy: 0.6400\n",
      "Epoch 52/64\n",
      "13/13 [==============================] - 0s 7ms/step - loss: 0.1133 - sparse_categorical_accuracy: 0.9925 - val_loss: 18.8227 - val_sparse_categorical_accuracy: 0.6400\n",
      "Epoch 53/64\n",
      "13/13 [==============================] - 0s 6ms/step - loss: 0.0070 - sparse_categorical_accuracy: 0.9975 - val_loss: 18.4687 - val_sparse_categorical_accuracy: 0.6400\n",
      "Epoch 54/64\n",
      "13/13 [==============================] - 0s 6ms/step - loss: 4.7702e-05 - sparse_categorical_accuracy: 1.0000 - val_loss: 18.3462 - val_sparse_categorical_accuracy: 0.6400\n",
      "Epoch 55/64\n",
      "13/13 [==============================] - 0s 6ms/step - loss: 4.7842e-06 - sparse_categorical_accuracy: 1.0000 - val_loss: 18.3270 - val_sparse_categorical_accuracy: 0.6600\n",
      "Epoch 56/64\n",
      "13/13 [==============================] - 0s 6ms/step - loss: 4.4869e-06 - sparse_categorical_accuracy: 1.0000 - val_loss: 18.3274 - val_sparse_categorical_accuracy: 0.6600\n",
      "Epoch 57/64\n",
      "13/13 [==============================] - 0s 6ms/step - loss: 4.2779e-06 - sparse_categorical_accuracy: 1.0000 - val_loss: 18.3293 - val_sparse_categorical_accuracy: 0.6600\n",
      "Epoch 58/64\n",
      "13/13 [==============================] - 0s 6ms/step - loss: 4.0913e-06 - sparse_categorical_accuracy: 1.0000 - val_loss: 18.3315 - val_sparse_categorical_accuracy: 0.6600\n",
      "Epoch 59/64\n",
      "13/13 [==============================] - 0s 6ms/step - loss: 3.9323e-06 - sparse_categorical_accuracy: 1.0000 - val_loss: 18.3332 - val_sparse_categorical_accuracy: 0.6600\n",
      "Epoch 60/64\n",
      "13/13 [==============================] - 0s 6ms/step - loss: 3.8263e-06 - sparse_categorical_accuracy: 1.0000 - val_loss: 18.3353 - val_sparse_categorical_accuracy: 0.6600\n",
      "Epoch 61/64\n",
      "13/13 [==============================] - 0s 7ms/step - loss: 3.6760e-06 - sparse_categorical_accuracy: 1.0000 - val_loss: 18.3370 - val_sparse_categorical_accuracy: 0.6600\n",
      "Epoch 62/64\n",
      "13/13 [==============================] - 0s 5ms/step - loss: 3.5587e-06 - sparse_categorical_accuracy: 1.0000 - val_loss: 18.3387 - val_sparse_categorical_accuracy: 0.6600\n",
      "Epoch 63/64\n",
      "13/13 [==============================] - 0s 6ms/step - loss: 3.4396e-06 - sparse_categorical_accuracy: 1.0000 - val_loss: 18.3401 - val_sparse_categorical_accuracy: 0.6600\n",
      "Epoch 64/64\n",
      "13/13 [==============================] - 0s 6ms/step - loss: 3.3458e-06 - sparse_categorical_accuracy: 1.0000 - val_loss: 18.3416 - val_sparse_categorical_accuracy: 0.6600\n"
     ]
    }
   ],
   "source": [
    "epochs = 64\n",
    "\n",
    "history = model.fit(x=features_train.tolist(), \n",
    "          y=labels_train.tolist(), \n",
    "          validation_data=(features_val.tolist(), labels_val.tolist()),\n",
    "          epochs=epochs,\n",
    "          verbose=1)"
   ]
  },
  {
   "cell_type": "markdown",
   "metadata": {},
   "source": [
    "## Model Evaluation\n",
    "Evaluate the trained model agaist the test dataset."
   ]
  },
  {
   "cell_type": "code",
   "execution_count": 156,
   "metadata": {},
   "outputs": [
    {
     "name": "stdout",
     "output_type": "stream",
     "text": [
      "2/2 [==============================] - 0s 4ms/step - loss: 16.3352 - sparse_categorical_accuracy: 0.8000\n"
     ]
    }
   ],
   "source": [
    "score = model.evaluate(x=features_test.tolist(), y=labels_test.tolist())"
   ]
  },
  {
   "cell_type": "code",
   "execution_count": 160,
   "metadata": {},
   "outputs": [
    {
     "name": "stdout",
     "output_type": "stream",
     "text": [
      "Accuracy : 80.0000011920929%\n"
     ]
    }
   ],
   "source": [
    "print('Accuracy : {}%'.format(str(score[1]*100)))"
   ]
  },
  {
   "cell_type": "markdown",
   "metadata": {},
   "source": [
    "The model performs relatively alright considering its simplicity. One way to experiment further with this is to try using a more complex model, such as a convolutional nueral network (CNN), to classify the extracted feature images instead of having to transform them into 1D vectors."
   ]
  }
 ],
 "metadata": {
  "kernelspec": {
   "display_name": "Python 3",
   "language": "python",
   "name": "python3"
  },
  "language_info": {
   "codemirror_mode": {
    "name": "ipython",
    "version": 3
   },
   "file_extension": ".py",
   "mimetype": "text/x-python",
   "name": "python",
   "nbconvert_exporter": "python",
   "pygments_lexer": "ipython3",
   "version": "3.6.6"
  }
 },
 "nbformat": 4,
 "nbformat_minor": 5
}
